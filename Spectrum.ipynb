{
  "nbformat": 4,
  "nbformat_minor": 0,
  "metadata": {
    "colab": {
      "name": "Spectrum.ipynb",
      "provenance": [],
      "include_colab_link": true
    },
    "kernelspec": {
      "name": "python3",
      "display_name": "Python 3"
    }
  },
  "cells": [
    {
      "cell_type": "markdown",
      "metadata": {
        "id": "view-in-github",
        "colab_type": "text"
      },
      "source": [
        "<a href=\"https://colab.research.google.com/github/Ali2098-bit/A1-PHY6000/blob/main/Spectrum.ipynb\" target=\"_parent\"><img src=\"https://colab.research.google.com/assets/colab-badge.svg\" alt=\"Open In Colab\"/></a>"
      ]
    },
    {
      "cell_type": "markdown",
      "metadata": {
        "id": "z27gNvycTSbN"
      },
      "source": [
        "# **Spectrum**\n",
        "\n",
        "Demo code to interpolate and multiply PCE and irradiance spectra in order to calculate current output of different solar cell technologies.\n",
        "\n",
        "A Buckley\n",
        "\n",
        "First authored: 2020/05/01\n",
        "\n",
        "Last update: 2020/09/07"
      ]
    },
    {
      "cell_type": "markdown",
      "metadata": {
        "id": "sV92ANHwTyGd"
      },
      "source": [
        "Install relevant python libraries"
      ]
    },
    {
      "cell_type": "code",
      "metadata": {
        "id": "_M1rLRW-T2Rm"
      },
      "source": [
        "!pip install numpy scipy pandas>1.0 matplotlib"
      ],
      "execution_count": null,
      "outputs": []
    },
    {
      "cell_type": "markdown",
      "metadata": {
        "id": "hyaVSkbrT58C"
      },
      "source": [
        "Import relavent modules"
      ]
    },
    {
      "cell_type": "code",
      "metadata": {
        "id": "obvONBDtT8Pb"
      },
      "source": [
        "from datetime import datetime\n",
        "import pandas as pd\n",
        "import numpy as np\n",
        "import scipy\n",
        "import matplotlib.pyplot as plt\n",
        "from scipy.interpolate import interp1d"
      ],
      "execution_count": null,
      "outputs": []
    },
    {
      "cell_type": "markdown",
      "metadata": {
        "id": "X-HEK7UzT_qP"
      },
      "source": [
        "**Create interpolation function**\n",
        "\n",
        "Takes a csv spectrum file (input spectrum) with one row header and two columns (columns are \"wavelength\" in nm and \"power\") and interpolates with fixed \"step_wl\"  wavelength step. \n",
        "\n",
        "wl stands for wavelength. x is wavelength axis and y is power axis. \n",
        "a cubic spline is chosen\n",
        "\n",
        "The interpolation function operates on independent x and y 1D arrays so the first thing to do is split the data frame into these arrays by deleting the other column from the data frame. They then need converting to a 1D array using \".ravel()\"\n",
        "\n",
        "Then the new x variable can be defined as int_x by taking a equal step from the start wavelength \"start_wl\" to the end wavelength \"end_wl\". \n",
        "\n",
        "A function \"f\" is fitted using the spline method for all x and y.\n",
        "Then a new set of y (int_y) are created using the new x values (int_x) and the function \"f\"\n",
        "\n",
        "Finally the new x and y values (int_x, int_y) are added to a new dataframe \"df\"\n",
        "I have no idea why \"axis=-1\" is needed!"
      ]
    },
    {
      "cell_type": "markdown",
      "metadata": {
        "id": "esMv69XLUeVq"
      },
      "source": [
        "First define the function and the inputs (start_wavelength, end_wavelength, step size in nm, input spectrum file dataframe)"
      ]
    },
    {
      "cell_type": "code",
      "metadata": {
        "id": "9eYaqDPqUt_r"
      },
      "source": [
        "def interpolate_wl_spectrum(start_wl, end_wl, step_wl, input_spectrum):\n",
        "    conv_spectrum = input_spectrum.values\n",
        "    #converting matrix columns to 1d array\n",
        "    x = np.delete(conv_spectrum,[1],axis=1)\n",
        "    y = np.delete(conv_spectrum,[0],axis=1)\n",
        "    #converting to 1D array\n",
        "    x = x.ravel()\n",
        "    y = y.ravel()\n",
        "    int_x = np.linspace(start_wl, end_wl, (end_wl-start_wl+1))\n",
        "    f = interp1d(x, y, kind='cubic')\n",
        "    int_y = f(int_x)\n",
        "    df = pd.DataFrame(np.stack((int_x, int_y), axis=-1))\n",
        "    return df"
      ],
      "execution_count": null,
      "outputs": []
    },
    {
      "cell_type": "markdown",
      "metadata": {
        "id": "jaklIxLsVG5S"
      },
      "source": [
        "**Create main function to analyse the interpolated data**\n",
        "This code loads both an AM1.5 spectrum and a sparsely sampled EQE spectrum from a public github repository and interpolates both spectra to a 1nm spacing. \n",
        "\n",
        "With these two interpolated spectra it should be easy enough to convert the AM1.5 spectrum to a photon flux and multiple by the EQE spectrum and finally sum to get a short circuit current density. By loading different EQE spectra from different solar cells a comparison can be made.\n",
        "\n",
        "Note that to load different EQE spectra you will need to save your own EQE spectra to your own github repository and alter the URL that loads the data."
      ]
    },
    {
      "cell_type": "markdown",
      "metadata": {
        "id": "57ezSFIiYCX5"
      },
      "source": [
        "First define the main routine. \n",
        "Second load the AM1.5 and EQE sdpectra from githib into dataframes"
      ]
    },
    {
      "cell_type": "code",
      "metadata": {
        "id": "xsx1EpXxX9oV"
      },
      "source": [
        "URL_AM15 = \"https://raw.githubusercontent.com/alastairbuckley/PHY6000/master/AM15_G_raw.csv\"\n",
        "URL_EQE = \"https://raw.githubusercontent.com/alastairbuckley/PHY6000/master/eqe_spectrum.csv\"\n",
        "AM15_spectrum = pd.read_csv(URL_AM15, sep = ',' , header = 1)\n",
        "eqe_spectrum = pd.read_csv(URL_EQE, sep = ',' , header = 1)    "
      ],
      "execution_count": null,
      "outputs": []
    },
    {
      "cell_type": "markdown",
      "metadata": {
        "id": "b8n5t4XdYYGS"
      },
      "source": [
        "Define the start and end wavelengths of the interpolation function should operate over. This should be inside the range of both sets of data. Some manual padding of the EQE data might be needed."
      ]
    },
    {
      "cell_type": "code",
      "metadata": {
        "id": "jXRE8vwcYVmw"
      },
      "source": [
        "start_wl = 300\n",
        "end_wl = 2000\n",
        "step_wl = end_wl-start_wl"
      ],
      "execution_count": null,
      "outputs": []
    },
    {
      "cell_type": "markdown",
      "metadata": {
        "id": "qofZjEIBYq4E"
      },
      "source": [
        "Interpolate the AM1.5 spectrum and plot. For some reason i needed to add another index \"A\". but i don't really know why!\n",
        "\n",
        "You will need to convert this to a photon flux spectrum"
      ]
    },
    {
      "cell_type": "code",
      "metadata": {
        "id": "zO9jIWwdYpIP",
        "outputId": "2e673466-a42c-47dd-9260-81356629cf98",
        "colab": {
          "base_uri": "https://localhost:8080/",
          "height": 279
        }
      },
      "source": [
        "AM15int = interpolate_wl_spectrum(start_wl=start_wl, end_wl=end_wl, step_wl=step_wl, input_spectrum = AM15_spectrum)\n",
        "AM15int['A'] = list(range(len(AM15int.index)))\n",
        "AM15int.plot.scatter(x=0, y=1)\n",
        "plt.show()"
      ],
      "execution_count": null,
      "outputs": [
        {
          "output_type": "display_data",
          "data": {
            "image/png": "[encoded data removed]",
            "text/plain": [
              "<Figure size 432x288 with 1 Axes>"
            ]
          },
          "metadata": {
            "tags": [],
            "needs_background": "light"
          }
        }
      ]
    },
    {
      "cell_type": "markdown",
      "metadata": {
        "id": "0EtnN_-VYypE"
      },
      "source": [
        "Interpolate the EQE spectrum and plot"
      ]
    },
    {
      "cell_type": "code",
      "metadata": {
        "id": "0kT67ojvY1N-",
        "outputId": "577d5561-f9bb-4f3b-9036-5c7da281e452",
        "colab": {
          "base_uri": "https://localhost:8080/",
          "height": 279
        }
      },
      "source": [
        "EQEint = interpolate_wl_spectrum(start_wl=start_wl, end_wl=end_wl, step_wl=step_wl, input_spectrum = eqe_spectrum)\n",
        "EQEint['A'] = list(range(len(EQEint)))\n",
        "EQEint.plot.scatter(x=0, y=1)\n",
        "plt.show()"
      ],
      "execution_count": null,
      "outputs": [
        {
          "output_type": "display_data",
          "data": {
            "image/png": "[encoded data removed]",
            "text/plain": [
              "<Figure size 432x288 with 1 Axes>"
            ]
          },
          "metadata": {
            "tags": [],
            "needs_background": "light"
          }
        }
      ]
    },
    {
      "cell_type": "markdown",
      "metadata": {
        "id": "WU-XMdSRYERP"
      },
      "source": [
        "You should now be able to multiply the EQE spectrum and the AM1.5 photon flux together to create an electron flux spectrum. by multiplying by the charge on an electron you can convert this to a current."
      ]
    }
  ]
}